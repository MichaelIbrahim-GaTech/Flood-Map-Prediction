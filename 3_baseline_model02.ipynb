{
 "cells": [
  {
   "cell_type": "markdown",
   "metadata": {},
   "source": [
    "# Model 2: High resolution prediction of flood maps"
   ]
  },
  {
   "cell_type": "markdown",
   "metadata": {},
   "source": [
    "The output of this model is used to measure global performance the performance of the pipeline.\n",
    "\n",
    "**The last section of this notebook create a submission file for the challenge**"
   ]
  },
  {
   "cell_type": "code",
   "execution_count": 1,
   "metadata": {},
   "outputs": [],
   "source": [
    "import numpy as np\n",
    "import pandas as pd\n",
    "import xarray as xr\n",
    "import src.baseline_model02 as bm\n",
    "import shutil"
   ]
  },
  {
   "cell_type": "markdown",
   "metadata": {},
   "source": [
    "# Training\n",
    "\n",
    "The next cell allows you to quickly test models by reducing the amount of data used.\n",
    "\n",
    "*nb_train_minicube*, *nb_test_minicube* and *nb_val_minicube*, are used to limit the number of \"mini data cube\" used in train/test/val sets and therefore reduce the computational cost of the training and hyper parameters exploration. With also only keep minicubes above the *min_score_model1* threshold.\n",
    "\n",
    "If you choose a high number of minicubes, the threshold should be low enough.\n"
   ]
  },
  {
   "cell_type": "code",
   "execution_count": 2,
   "metadata": {},
   "outputs": [],
   "source": [
    "baseline_model_generator_test = bm.BaseLineModel(\n",
    "    \"localdata/smallbox/label/label_\",\n",
    "    train_start = \"2002-08-03\",  # date where to split train test\n",
    "    train_end = \"2003-03-17\",  # date where to split train test\n",
    "    dynamic_features_path = \"localdata/Model1_score_ERA5_Rez_v2.nc\",\n",
    "    static_features_root_path = \"localdata/smallbox/static/static_\",\n",
    "    dynamic_features_FR_path = \"localdata/Model1_Score_Full_Rez_v2.nc\",\n",
    "    inf_dynamic_features_FR_path = \"localdata/Model1_Score_Full_Rez_inf.nc\",\n",
    "    static_features_FR_path = \"localdata/static_Full_Rez.nc\",\n",
    "    labels_ERA5_path = \"localdata/final_label_Full_ERA5.nc\",\n",
    "    labels_FR_path = \"localdata/final_label_Full_Rez.nc\",\n",
    "    nb_train_minicube = 600, #Those values are very small for good performance you will need more datacubes\n",
    "    nb_test_minicube = 20, #Those values are very small for apropriate test you will need more datacubes\n",
    "    nb_val_minicube = 20,\n",
    "    min_score_model1 = 0.2,\n",
    "    name=\"Baseline_Model_2_Small_20_02\",\n",
    "    seed=1\n",
    "    )"
   ]
  },
  {
   "cell_type": "markdown",
   "metadata": {},
   "source": [
    "### Preparation of the train / test / val dataset\n",
    "\n",
    "When using a high number of minicubes or low threshold, this process can still be quite long. The vectorised train / test / val can be saved to gain time when training several models on the same data."
   ]
  },
  {
   "cell_type": "code",
   "execution_count": 3,
   "metadata": {},
   "outputs": [
    {
     "name": "stdout",
     "output_type": "stream",
     "text": [
      "# TP train : 568\n",
      "# FP train : 323\n",
      "# TP test : 235\n",
      "# FP test : 205\n",
      "# TP val : 149\n",
      "# FP val : 214\n"
     ]
    }
   ],
   "source": [
    "baseline_model_generator_test.prepare_data()"
   ]
  },
  {
   "cell_type": "markdown",
   "metadata": {},
   "source": [
    "### Training\n",
    "\n",
    "Training a Random Forest with all features, 150 trees and depth 8."
   ]
  },
  {
   "cell_type": "code",
   "execution_count": 4,
   "metadata": {},
   "outputs": [
    {
     "name": "stdout",
     "output_type": "stream",
     "text": [
      "Learning rate set to 0.5\n",
      "0:\tlearn: 0.0724726\ttest: 0.0725030\tbest: 0.0725030 (0)\ttotal: 970ms\tremaining: 1m 36s\n",
      "99:\tlearn: 0.0000877\ttest: 0.0003294\tbest: 0.0003291 (92)\ttotal: 1m 28s\tremaining: 0us\n",
      "\n",
      "bestTest = 0.0003291025352\n",
      "bestIteration = 92\n",
      "\n",
      "Shrink model to first 93 iterations.\n",
      "Learning rate set to 0.5\n",
      "0:\tlearn: 0.0724171\ttest: 0.0726488\tbest: 0.0726488 (0)\ttotal: 4.38s\tremaining: 7m 13s\n",
      "99:\tlearn: 0.0000572\ttest: 0.0008522\tbest: 0.0008396 (75)\ttotal: 2m 42s\tremaining: 0us\n",
      "\n",
      "bestTest = 0.0008395555343\n",
      "bestIteration = 75\n",
      "\n",
      "Shrink model to first 76 iterations.\n",
      "Learning rate set to 0.5\n",
      "0:\tlearn: 0.0725047\ttest: 0.0724089\tbest: 0.0724089 (0)\ttotal: 4.02s\tremaining: 6m 38s\n",
      "99:\tlearn: 0.0001125\ttest: 0.0000718\tbest: 0.0000644 (16)\ttotal: 2m 24s\tremaining: 0us\n",
      "\n",
      "bestTest = 6.435125896e-05\n",
      "bestIteration = 16\n",
      "\n",
      "Shrink model to first 17 iterations.\n",
      "Learning rate set to 0.5\n",
      "0:\tlearn: 0.0725102\ttest: 0.0724209\tbest: 0.0724209 (0)\ttotal: 5.54s\tremaining: 9m 9s\n",
      "99:\tlearn: 0.0001158\ttest: 0.0000384\tbest: 0.0000381 (30)\ttotal: 2m 47s\tremaining: 0us\n",
      "\n",
      "bestTest = 3.807269292e-05\n",
      "bestIteration = 30\n",
      "\n",
      "Shrink model to first 31 iterations.\n",
      "Learning rate set to 0.5\n",
      "0:\tlearn: 0.0725035\ttest: 0.0724131\tbest: 0.0724131 (0)\ttotal: 4.83s\tremaining: 7m 58s\n",
      "99:\tlearn: 0.0001077\ttest: 0.0000966\tbest: 0.0000925 (20)\ttotal: 2m 57s\tremaining: 0us\n",
      "\n",
      "bestTest = 9.246841347e-05\n",
      "bestIteration = 20\n",
      "\n",
      "Shrink model to first 21 iterations.\n",
      "AUC score 0.9969754783708477\n",
      "Brier score 0.0002727100787377258\n",
      "[0, 1, 2, 3, 4, 5, 6, 7, 8, 9, 10, 11, 12, 13, 14, 15, 16]\n",
      "(7681526, 17)\n",
      "(1, 7681526)\n"
     ]
    },
    {
     "data": {
      "text/plain": [
       "0.998908830865136"
      ]
     },
     "execution_count": 4,
     "metadata": {},
     "output_type": "execute_result"
    }
   ],
   "source": [
    "baseline_model_generator_test.train_model([True, #soilgrid_bdod\n",
    "                                          True, #soilgrid_cfvo\n",
    "                                          True, #soilgrid_silt\n",
    "                                          True, #soilgrid_clay\n",
    "                                          True, #soilgrid_sand\n",
    "                                          True, #depth_to_bedrock\n",
    "                                          True, #altitude\n",
    "                                          True, #aspect\n",
    "                                          True, #slope\n",
    "                                          True, #water_density\n",
    "                                          True, #watershed\n",
    "                                          True, #topological_catchment_areas\n",
    "                                          True, #dist_sea\n",
    "                                          True, #floodable\n",
    "                                          True, #flood_count\n",
    "                                          True, #dist_riv\n",
    "                                          True #M1_score\n",
    "                                          ],\n",
    "                                          compute_xval = False) # Set to true to get the X-Val score (AUC-ROC by default)"
   ]
  },
  {
   "cell_type": "markdown",
   "metadata": {},
   "source": [
    "### Saving and loading model\n",
    "\n",
    "Vectorised test/train/validation dataset and trainned models are saved (the Full test saved is saved independently)"
   ]
  },
  {
   "cell_type": "code",
   "execution_count": 5,
   "metadata": {},
   "outputs": [
    {
     "name": "stdout",
     "output_type": "stream",
     "text": [
      "[0, 1, 2, 3, 4, 5, 6, 7, 8, 9, 10, 11, 12, 13, 14, 15, 16]\n"
     ]
    }
   ],
   "source": [
    "baseline_model_generator_test.save_to_disk()\n",
    "\n",
    "#if you want to load a previously trained model :\n",
    "#baseline_model_generator_test = baseline_model_generator_test.load_from_disk(\"Baseline_Model_2_Small_20_02\")"
   ]
  },
  {
   "cell_type": "code",
   "execution_count": 6,
   "metadata": {},
   "outputs": [
    {
     "name": "stdout",
     "output_type": "stream",
     "text": [
      "[0, 1, 2, 3, 4, 5, 6, 7, 8, 9, 10, 11, 12, 13, 14, 15, 16]\n"
     ]
    }
   ],
   "source": [
    "baseline_model_generator_test = baseline_model_generator_test.load_from_disk(\"Baseline_Model_2_Small_20_02\")"
   ]
  },
  {
   "cell_type": "markdown",
   "metadata": {},
   "source": [
    "# Model Analysis\n",
    "\n",
    "### Feature importance"
   ]
  },
  {
   "cell_type": "code",
   "execution_count": 7,
   "metadata": {},
   "outputs": [
    {
     "name": "stdout",
     "output_type": "stream",
     "text": [
      "M1_score: 157.48076214288324\n",
      "floodable: 68.96886465078866\n",
      "flood_count: 56.71873996344465\n",
      "topological_catchment_areas: 37.1734064011167\n",
      "soilgrid_cfvo: 35.70001820013035\n",
      "slope: 29.737511591366562\n",
      "altitude: 24.643420282673638\n",
      "dist_sea: 23.3605990046472\n",
      "soilgrid_silt: 13.421624769086396\n",
      "water_density: 11.390858144344364\n",
      "depth_to_bedrock: 11.361636032591752\n",
      "soilgrid_sand: 9.762879872827293\n",
      "aspect: 8.254905205029269\n",
      "soilgrid_clay: 6.755202040561833\n",
      "soilgrid_bdod: 3.4063280718005524\n",
      "dist_water: 1.362140269959244\n",
      "watershed: 0.5011033567483059\n"
     ]
    },
    {
     "data": {
      "image/png": "[encoded data removed]",
      "text/plain": [
       "<Figure size 1200x600 with 1 Axes>"
      ]
     },
     "metadata": {},
     "output_type": "display_data"
    }
   ],
   "source": [
    "baseline_model_generator_test.print_feature_importance()"
   ]
  },
  {
   "cell_type": "markdown",
   "metadata": {},
   "source": [
    "### Geographical results"
   ]
  },
  {
   "cell_type": "markdown",
   "metadata": {},
   "source": [
    "##### Prediction score Map"
   ]
  },
  {
   "cell_type": "markdown",
   "metadata": {},
   "source": [
    "##### False Positive, True Positive, False Negative Mapping"
   ]
  },
  {
   "cell_type": "code",
   "execution_count": 8,
   "metadata": {},
   "outputs": [],
   "source": [
    "#baseline_model_generator_test.load_FullRez()"
   ]
  },
  {
   "cell_type": "code",
   "execution_count": 9,
   "metadata": {},
   "outputs": [],
   "source": [
    "#baseline_model_generator_test.print_TNTPFN(save_path=\"graph/model2/TNTPFN/\", thresholdM1=0.5, thresholdM2=0.5)"
   ]
  },
  {
   "cell_type": "code",
   "execution_count": 10,
   "metadata": {},
   "outputs": [],
   "source": [
    "#baseline_model_generator_test.print_proba(save_path=\"graph/model2/Proba/\", thresholdM1=0.5, thresholdM2=0.5)"
   ]
  },
  {
   "cell_type": "markdown",
   "metadata": {},
   "source": [
    "This function can also be used to print a zoomed map :"
   ]
  },
  {
   "cell_type": "code",
   "execution_count": 11,
   "metadata": {},
   "outputs": [],
   "source": [
    "#baseline_model_generator_test.print_proba(save_path=\"graph/model2/ProbaReduced/\", \n",
    "#                                          thresholdM1=0.5, \n",
    "#                                          thresholdM2=0.5,\n",
    "#                                          min_x=3500,\n",
    "#                                          min_y=2500)"
   ]
  },
  {
   "cell_type": "markdown",
   "metadata": {},
   "source": [
    "### Performance analysis"
   ]
  },
  {
   "cell_type": "markdown",
   "metadata": {},
   "source": [
    "### Pre-processing of the full test data\n",
    "\n",
    "Loading of the Full Test Dataset from disk.\n",
    "The vectorised Full train test (all France data on the define time slices for test train might be quite long to process).\n",
    "Furthermore the *Full test set*, by nature, is fixed, so we process the vectorised *Full Test Set* independently.\n",
    "When you have done this process one time you don't need to do it again as long as you don't change your first model outputs."
   ]
  },
  {
   "cell_type": "code",
   "execution_count": 12,
   "metadata": {},
   "outputs": [],
   "source": [
    "#baseline_model_generator_test.prepare_data(compute_full_test_set=True) #This will take a while, only do it one time\n",
    "#baseline_model_generator_test.save_full_test_to_disk(name=\"Full\") #Saving the results to disk\n",
    "#baseline_model_generator_test.load_full_test_from_disk(name=\"Full\") #Loading the results from disk, start from here if you already computed the full test set"
   ]
  },
  {
   "cell_type": "markdown",
   "metadata": {},
   "source": [
    "#### ROC plots"
   ]
  },
  {
   "cell_type": "code",
   "execution_count": 13,
   "metadata": {},
   "outputs": [],
   "source": [
    "#baseline_model_generator_test.auc_graph(\"Full_Test\", \"\", [0.01,0.05,0.1,0.15, 0.2,0.3, 0.5, 0.9])"
   ]
  },
  {
   "cell_type": "code",
   "execution_count": 14,
   "metadata": {},
   "outputs": [],
   "source": [
    "#baseline_model_generator_test.process_AUC_metrics(filter=False)"
   ]
  },
  {
   "cell_type": "code",
   "execution_count": 15,
   "metadata": {},
   "outputs": [],
   "source": [
    "#baseline_model_generator_test.process_prediction_metrics(filter=False)"
   ]
  },
  {
   "cell_type": "markdown",
   "metadata": {},
   "source": [
    "# Computation of predictions for codabench\n",
    "\n",
    "#### Data loading"
   ]
  },
  {
   "cell_type": "code",
   "execution_count": 16,
   "metadata": {},
   "outputs": [],
   "source": [
    "baseline_model_generator_test.load_InfRez()"
   ]
  },
  {
   "cell_type": "markdown",
   "metadata": {},
   "source": [
    "saving predictions"
   ]
  },
  {
   "cell_type": "code",
   "execution_count": 17,
   "metadata": {},
   "outputs": [
    {
     "name": "stdout",
     "output_type": "stream",
     "text": [
      "(9, 3936, 5953)\n"
     ]
    }
   ],
   "source": [
    "baseline_model_generator_test.save_full_pred() #this can be quite long\n",
    "#reduction_factor can be used to compute the prediction on smaller batch of the data, (higher values means smaller batch).\n",
    "#baseline_model_generator_test.save_full_pred(reduction_factor = 20) "
   ]
  },
  {
   "cell_type": "markdown",
   "metadata": {},
   "source": [
    "#### Printing of the prediction map\n",
    "\n",
    "(This is optionnal) you can find the resulting graph in graph/Model2/inference/"
   ]
  },
  {
   "cell_type": "code",
   "execution_count": 18,
   "metadata": {},
   "outputs": [
    {
     "name": "stdout",
     "output_type": "stream",
     "text": [
      "2003-11-02T00:00:00.000000000\n"
     ]
    },
    {
     "name": "stderr",
     "output_type": "stream",
     "text": [
      "No artists with labels found to put in legend.  Note that artists whose label start with an underscore are ignored when legend() is called with no argument.\n"
     ]
    },
    {
     "name": "stdout",
     "output_type": "stream",
     "text": [
      "2003-11-09T00:00:00.000000000\n"
     ]
    },
    {
     "name": "stderr",
     "output_type": "stream",
     "text": [
      "No artists with labels found to put in legend.  Note that artists whose label start with an underscore are ignored when legend() is called with no argument.\n"
     ]
    },
    {
     "name": "stdout",
     "output_type": "stream",
     "text": [
      "2003-11-16T00:00:00.000000000\n"
     ]
    },
    {
     "name": "stderr",
     "output_type": "stream",
     "text": [
      "No artists with labels found to put in legend.  Note that artists whose label start with an underscore are ignored when legend() is called with no argument.\n"
     ]
    },
    {
     "name": "stdout",
     "output_type": "stream",
     "text": [
      "2003-11-23T00:00:00.000000000\n"
     ]
    },
    {
     "name": "stderr",
     "output_type": "stream",
     "text": [
      "No artists with labels found to put in legend.  Note that artists whose label start with an underscore are ignored when legend() is called with no argument.\n"
     ]
    },
    {
     "name": "stdout",
     "output_type": "stream",
     "text": [
      "2003-11-30T00:00:00.000000000\n"
     ]
    },
    {
     "name": "stderr",
     "output_type": "stream",
     "text": [
      "No artists with labels found to put in legend.  Note that artists whose label start with an underscore are ignored when legend() is called with no argument.\n"
     ]
    },
    {
     "name": "stdout",
     "output_type": "stream",
     "text": [
      "2003-12-07T00:00:00.000000000\n"
     ]
    },
    {
     "name": "stderr",
     "output_type": "stream",
     "text": [
      "No artists with labels found to put in legend.  Note that artists whose label start with an underscore are ignored when legend() is called with no argument.\n"
     ]
    },
    {
     "name": "stdout",
     "output_type": "stream",
     "text": [
      "2003-12-14T00:00:00.000000000\n"
     ]
    },
    {
     "name": "stderr",
     "output_type": "stream",
     "text": [
      "No artists with labels found to put in legend.  Note that artists whose label start with an underscore are ignored when legend() is called with no argument.\n"
     ]
    },
    {
     "name": "stdout",
     "output_type": "stream",
     "text": [
      "2003-12-21T00:00:00.000000000\n"
     ]
    },
    {
     "name": "stderr",
     "output_type": "stream",
     "text": [
      "No artists with labels found to put in legend.  Note that artists whose label start with an underscore are ignored when legend() is called with no argument.\n"
     ]
    },
    {
     "name": "stdout",
     "output_type": "stream",
     "text": [
      "2003-12-28T00:00:00.000000000\n"
     ]
    },
    {
     "name": "stderr",
     "output_type": "stream",
     "text": [
      "No artists with labels found to put in legend.  Note that artists whose label start with an underscore are ignored when legend() is called with no argument.\n"
     ]
    }
   ],
   "source": [
    "baseline_model_generator_test.print_proba_inf(save_path=\"graph/Model2/inference/\")"
   ]
  },
  {
   "cell_type": "code",
   "execution_count": null,
   "metadata": {},
   "outputs": [],
   "source": []
  }
 ],
 "metadata": {
  "kernelspec": {
   "display_name": "Python 3 (ipykernel)",
   "language": "python",
   "name": "python3"
  },
  "language_info": {
   "codemirror_mode": {
    "name": "ipython",
    "version": 3
   },
   "file_extension": ".py",
   "mimetype": "text/x-python",
   "name": "python",
   "nbconvert_exporter": "python",
   "pygments_lexer": "ipython3",
   "version": "3.10.13"
  }
 },
 "nbformat": 4,
 "nbformat_minor": 4
}
